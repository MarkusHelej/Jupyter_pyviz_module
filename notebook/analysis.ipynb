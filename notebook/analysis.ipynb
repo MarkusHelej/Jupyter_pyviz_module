{
 "cells": [
  {
   "cell_type": "code",
   "execution_count": null,
   "id": "4553dd85",
   "metadata": {},
   "outputs": [],
   "source": [
    "#!pip install pandas matplotlib numpy seaborn\n",
    "#!pip install joypy"
   ]
  },
  {
   "cell_type": "code",
   "execution_count": null,
   "id": "d0a27dba",
   "metadata": {},
   "outputs": [],
   "source": [
    "\n",
    "import sys, os\n",
    "sys.path.insert(0, os.path.abspath(\"../src\"))\n",
    "\n",
    "from models import DatasetModel\n",
    "from plots.plot_IRAS import plot_iras\n",
    "from plots.plot_items import plot_items\n",
    "from plots.plot_scenarios import plot_scenarios\n"
   ]
  },
  {
   "cell_type": "code",
   "execution_count": null,
   "id": "b23198a0",
   "metadata": {},
   "outputs": [],
   "source": [
    "ds = DatasetModel.from_csv(\"../data/reproduce_sherpa_msr.csv\")\n",
    "plot_iras(ds, title=\"IRAS vs ActiWiz (msr)\")\n"
   ]
  },
  {
   "cell_type": "code",
   "execution_count": null,
   "id": "bc5957dd",
   "metadata": {},
   "outputs": [],
   "source": [
    "\n",
    "plot_items(\"../data/reproduce_sherpa_mass_itm.csv\");\n"
   ]
  },
  {
   "cell_type": "code",
   "execution_count": null,
   "id": "a4b5f4a0",
   "metadata": {},
   "outputs": [],
   "source": [
    "import sys, os, importlib\n",
    "sys.path.insert(0, os.path.abspath(\"../src\"))\n",
    "importlib.invalidate_caches()\n",
    "\n",
    "from plots.plot_scenarios import plot_scenarios\n",
    "fig1, fig2 = plot_scenarios(\"../data/reproduce_sherpa_mass_itm.csv\")\n",
    "fig1.show(); fig2.show()\n"
   ]
  },
  {
   "cell_type": "code",
   "execution_count": null,
   "id": "bf5dbb6c-393a-444d-8c00-5e41471ca1fe",
   "metadata": {},
   "outputs": [],
   "source": []
  }
 ],
 "metadata": {
  "kernelspec": {
   "display_name": "Python 3",
   "language": "python",
   "name": "python3"
  },
  "language_info": {
   "codemirror_mode": {
    "name": "ipython",
    "version": 3
   },
   "file_extension": ".py",
   "mimetype": "text/x-python",
   "name": "python",
   "nbconvert_exporter": "python",
   "pygments_lexer": "ipython3",
   "version": "3.13.7"
  }
 },
 "nbformat": 4,
 "nbformat_minor": 5
}
